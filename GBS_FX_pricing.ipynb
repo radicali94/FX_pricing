{
 "cells": [
  {
   "cell_type": "markdown",
   "metadata": {},
   "source": [
    "<h1><center>Black-Scholes Généralisé - Estimation de volatilité et pricing</center></h1>"
   ]
  },
  {
   "cell_type": "markdown",
   "metadata": {},
   "source": [
    "Le but de ce notebook est de faire l'estimation de la volatilité implicite pour ensuite utiliser le modèle de Garman Kohlhagen (dérivé du modèle Black-Scholes généralisé) dans le but de faire le pricing des options FX."
   ]
  },
  {
   "cell_type": "code",
   "execution_count": 1,
   "metadata": {},
   "outputs": [],
   "source": [
    "from __future__ import division\n",
    "\n",
    "# importation des librairies nécessaires\n",
    "import unittest\n",
    "import math\n",
    "import numpy as np\n",
    "from scipy.stats import norm\n",
    "from scipy.stats import mvn\n",
    "\n",
    "_DEBUG = False"
   ]
  },
  {
   "cell_type": "code",
   "execution_count": 2,
   "metadata": {},
   "outputs": [],
   "source": [
    "# Cette classe contient les limites des entrées pour les modèles du GBS\n",
    "# Ce n'est pas destiné à faire partie de l'interface de ce module\n",
    "class _GBS_Limites:\n",
    "    # Un modèle de GBS retournera une erreur si une entrée hors limite est saisie\n",
    "    MAX32 = 2147483248.0\n",
    "\n",
    "    MIN_T = 1.0 / 1000.0  # l'option exige qu'il reste un certain temps avant l'expiration\n",
    "    MIN_X = 0.01\n",
    "    MIN_FS = 0.01\n",
    "\n",
    "    # Une volatilité inférieure à 0,5% entraîne l'échec des calculs d'options américaines\n",
    "\n",
    "    MIN_V = 0.005\n",
    "\n",
    "    MAX_T = 100\n",
    "    MAX_X = MAX32\n",
    "    MAX_FS = MAX32\n",
    "\n",
    "    # Limites de l'option asiatique\n",
    "    MIN_TA = 0\n",
    "\n",
    "    # Ce modèle fonctionnera avec des valeurs plus élevées pour b, r et V.\n",
    "    # Cependant, de telles valeurs sont extrêmement rares.  \n",
    "    # Pour détecter certaines erreurs courantes, les taux d'intérêt et la volatilité sont plafonnés à 100 %. \n",
    "    \n",
    "    MIN_b = -1\n",
    "    MIN_r = -1\n",
    "\n",
    "    MAX_b = 1\n",
    "    MAX_r = 1\n",
    "    MAX_V = 1"
   ]
  },
  {
   "cell_type": "code",
   "execution_count": 3,
   "metadata": {},
   "outputs": [],
   "source": [
    "class GBS_CalculationError(Exception):\n",
    "    def __init__(self, mismatch):\n",
    "        Exception.__init__(self, mismatch)"
   ]
  },
  {
   "cell_type": "code",
   "execution_count": 4,
   "metadata": {},
   "outputs": [],
   "source": [
    "# ------------------------------\n",
    "# Cette fonction permet de vérifier que l'indicateur Call/Put est correctement saisi\n",
    "def _test_option_type(option_type):\n",
    "    if (option_type != \"c\") and (option_type != \"p\"):\n",
    "        print(\"Entrée invalide option_type ({0}). Valeurs acceptables: c, p\".format(option_type))"
   ]
  },
  {
   "cell_type": "code",
   "execution_count": 5,
   "metadata": {},
   "outputs": [],
   "source": [
    "# ------------------------------\n",
    "# Cette fonction permet de s'assurer que les entrées sont correctes\n",
    "def _gbs_test_inputs(option_type, fs, x, t, r, b, v):\n",
    "    # -----------\n",
    "    # Les entrées de test sont raisonnables\n",
    "    _test_option_type(option_type)\n",
    "\n",
    "    if (x < _GBS_Limites.MIN_X) or (x > _GBS_Limites.MAX_X):\n",
    "        print(\n",
    "            \"Prix de Strike invalide (X). Intervalle acceptable : {1} à {2}\".format(x, _GBS_Limites.MIN_X,\n",
    "                                                                                               _GBS_Limites.MAX_X))\n",
    "\n",
    "    if (fs < _GBS_Limites.MIN_FS) or (fs > _GBS_Limites.MAX_FS):\n",
    "        print(\n",
    "            \"Prix de Forward/Spot invalide (FS). Intervalle acceptable : {1} à {2}\".format(fs,\n",
    "                                                                                           _GBS_Limites.MIN_FS,\n",
    "                                                                                           _GBS_Limites.MAX_FS))\n",
    "\n",
    "    if (t < _GBS_Limites.MIN_T) or (t > _GBS_Limites.MAX_T):\n",
    "        print(\n",
    "            \"Temps invalide (T = {0}). Intervalle acceptable : {1} à {2}\".format(t, _GBS_Limites.MIN_T,\n",
    "                                                                                             _GBS_Limites.MAX_T))\n",
    "\n",
    "    if (b < _GBS_Limites.MIN_b) or (b > _GBS_Limites.MAX_b):\n",
    "        print(\n",
    "            \"Cost of Carry invalide (b = {0}). Intervalle acceptable : {1} à {2}\".format(b,\n",
    "                                                                                        _GBS_Limites.MIN_b,\n",
    "                                                                                        _GBS_Limites.MAX_b))\n",
    "\n",
    "    if (r < _GBS_Limites.MIN_r) or (r > _GBS_Limites.MAX_r):\n",
    "        print(\n",
    "            \"Taux actif sans risque invalide (r = {0}). Intervalle acceptable : {1} à {2}\".format(r,\n",
    "                                                                                                 _GBS_Limites.MIN_r,\n",
    "                                                                                                 _GBS_Limites.MAX_r))\n",
    "\n",
    "    if (v < _GBS_Limites.MIN_V) or (v > _GBS_Limites.MAX_V):\n",
    "        print(\n",
    "            \"Volatilité implicite invalide (V = {0}). Intervalle acceptable : {1} à {2}\".format(v,\n",
    "                                                                                                _GBS_Limites.MIN_V,\n",
    "                                                                                                _GBS_Limites.MAX_V))"
   ]
  },
  {
   "cell_type": "code",
   "execution_count": 6,
   "metadata": {},
   "outputs": [],
   "source": [
    "# Entrées: type_option = \"p\" or \"c\", fs = prix de l'actif sous-jacent, x = strike, t = échéance, r = taux actif sans risque\n",
    "#         b = terme de correction, v = volatilité implicite\n",
    "# Sorties: prix, delta, gamma, theta, vega, rho\n",
    "def _gbs(option_type, fs, x, t, r, b, v):\n",
    "    \n",
    "    _gbs_test_inputs(option_type, fs, x, t, r, b, v)\n",
    "    # Calculs préliminaires\n",
    "    t__sqrt = math.sqrt(t)\n",
    "    d1 = (math.log(fs / x) + (b + (v * v) / 2) * t) / (v * t__sqrt)\n",
    "    d2 = d1 - v * t__sqrt\n",
    "\n",
    "    if option_type == \"c\":\n",
    "        # Call\n",
    "        value = fs * math.exp((b - r) * t) * norm.cdf(d1) - x * math.exp(-r * t) * norm.cdf(d2)\n",
    "        delta = math.exp((b - r) * t) * norm.cdf(d1)\n",
    "        gamma = math.exp((b - r) * t) * norm.pdf(d1) / (fs * v * t__sqrt)\n",
    "        theta = -(fs * v * math.exp((b - r) * t) * norm.pdf(d1)) / (2 * t__sqrt) - (b - r) * fs * math.exp(\n",
    "            (b - r) * t) * norm.cdf(d1) - r * x * math.exp(-r * t) * norm.cdf(d2)\n",
    "        vega = math.exp((b - r) * t) * fs * t__sqrt * norm.pdf(d1)\n",
    "        rho = x * t * math.exp(-r * t) * norm.cdf(d2)\n",
    "    else:\n",
    "        # Put\n",
    "        value = x * math.exp(-r * t) * norm.cdf(-d2) - (fs * math.exp((b - r) * t) * norm.cdf(-d1))\n",
    "        delta = -math.exp((b - r) * t) * norm.cdf(-d1)\n",
    "        gamma = math.exp((b - r) * t) * norm.pdf(d1) / (fs * v * t__sqrt)\n",
    "        theta = -(fs * v * math.exp((b - r) * t) * norm.pdf(d1)) / (2 * t__sqrt) + (b - r) * fs * math.exp(\n",
    "            (b - r) * t) * norm.cdf(-d1) + r * x * math.exp(-r * t) * norm.cdf(-d2)\n",
    "        vega = math.exp((b - r) * t) * fs * t__sqrt * norm.pdf(d1)\n",
    "        rho = -x * t * math.exp(-r * t) * norm.cdf(-d2)\n",
    "        \n",
    "    return value, delta, gamma, theta, vega, rho  "
   ]
  },
  {
   "cell_type": "markdown",
   "metadata": {},
   "source": [
    " ## Volatilité implicite"
   ]
  },
  {
   "cell_type": "code",
   "execution_count": 7,
   "metadata": {},
   "outputs": [],
   "source": [
    "# ----------\n",
    "# Entrées\n",
    "#      fs = Prix forward/spot\n",
    "#      x = Strike\n",
    "#      t = Temps (en années)\n",
    "#      r = taux actif sans risque\n",
    "#      b = coût\n",
    "#      cp = prix du call/put\n",
    "#      precision = (optionnelle)  \n",
    "#      max_steps = (optionnelle) \n",
    "\n",
    "# ---------\n",
    "# Cette fonction permet de choisir un point de départ pour \n",
    "# les fonctions de recherche (recherche Newton et dichotomique). \n",
    "\n",
    "def _vol_implicite_approx(option_type, fs, x, t, r, b, cp):\n",
    "    _test_option_type(option_type)\n",
    "\n",
    "    ebrt = math.exp((b - r) * t)\n",
    "    ert = math.exp(-r * t)\n",
    "\n",
    "    a = math.sqrt(2 * math.pi) / (fs * ebrt + x * ert)\n",
    "\n",
    "    if option_type == \"c\":\n",
    "        payoff = fs * ebrt - x * ert\n",
    "    else:\n",
    "        payoff = x * ert - fs * ebrt\n",
    "\n",
    "    b = cp - payoff / 2\n",
    "    c = (payoff ** 2) / math.pi\n",
    "\n",
    "    v = (a * (b + math.sqrt(b ** 2 + c))) / math.sqrt(t)\n",
    "\n",
    "    return v"
   ]
  },
  {
   "cell_type": "code",
   "execution_count": 8,
   "metadata": {},
   "outputs": [],
   "source": [
    "# ----------\n",
    "# Trouver la volatilité implicite d'une option européenne (GBS) à un prix donné en utilisant la méthode Newton-Raphson \n",
    "# pour plus de rapidité puisque Vega est disponible\n",
    "\n",
    "def _gbs_vol_implicite(option_type, fs, x, t, r, b, cp, precision=.00001, max_steps=100):\n",
    "    return _newton_vol_implicite(_gbs, option_type, x, fs, t, b, r, cp, precision, max_steps)"
   ]
  },
  {
   "cell_type": "code",
   "execution_count": 9,
   "metadata": {},
   "outputs": [],
   "source": [
    "# ----------\n",
    "# Calculer la volatilité implicite avec une recherche Newton Raphson\n",
    "def _newton_vol_implicite(val_fn, option_type, x, fs, t, b, r, cp, precision=.00001, max_steps=100):\n",
    "    # verifier le type d'option\n",
    "    _test_option_type(option_type)\n",
    "\n",
    "    # Vérification de l'appartenance au domaine de def\n",
    "    v = _vol_implicite_approx(option_type, fs, x, t, r, b, cp)\n",
    "    v = max(_GBS_Limites.MIN_V, v)\n",
    "    v = min(_GBS_Limites.MAX_V, v)\n",
    "\n",
    "    value, delta, gamma, theta, vega, rho = val_fn(option_type, fs, x, t, r, b, v)\n",
    "    min_diff = abs(cp - value)\n",
    "\n",
    "    # Recherche Newton-Raphson\n",
    "    countr = 0\n",
    "    while precision <= abs(cp - value) <= min_diff and countr < max_steps:\n",
    "\n",
    "        v = v - (value - cp) / vega\n",
    "        if (v > _GBS_Limites.MAX_V) or (v < _GBS_Limites.MIN_V):\n",
    "            print(\"    Volatilité hors limites\")\n",
    "            break\n",
    "\n",
    "        value, delta, gamma, theta, vega, rho = val_fn(option_type, fs, x, t, r, b, v)\n",
    "        min_diff = min(abs(cp - value), min_diff)\n",
    "\n",
    "        countr += 1\n",
    "        #print(\"     VOL_IMP ITER {0}. v={1}\".format(countr, v))\n",
    " \n",
    "    # vérifier la convergence et retourner la valeur\n",
    "    if abs(cp - value) < precision:\n",
    "        # la fct de recherche a convergé\n",
    "        return v\n",
    "    else:\n",
    "        # si la recherche ne converge pas, essayer la recherche dichotomique\n",
    "        return _rech_dichotomique_vol_implicite(val_fn, option_type, fs, x, t, r, b, cp, precision, max_steps)"
   ]
  },
  {
   "cell_type": "code",
   "execution_count": 10,
   "metadata": {},
   "outputs": [],
   "source": [
    "# trouver volatilité implicite en utilisant la recherche dichotomique\n",
    "def _rech_dichotomique_vol_implicite(val_fn, option_type, fs, x, t, r, b, cp, precision=.00001, max_steps=100):\n",
    "\n",
    "    v_mid = _vol_implicite_approx(option_type, fs, x, t, r, b, cp)\n",
    "\n",
    "    if (v_mid <= _GBS_Limites.MIN_V) or (v_mid >= _GBS_Limites.MAX_V):\n",
    "        # si l'estimation de la volatilité est hors limites, rechercher dans tout l'espace de vol. autorisé\n",
    "        v_low = _GBS_Limites.MIN_V\n",
    "        v_high = _GBS_Limites.MAX_V\n",
    "        v_mid = (v_low + v_high) / 2\n",
    "    else:\n",
    "        # réduire la taille de l'espace de vol.\n",
    "        v_low = max(_GBS_Limites.MIN_V, v_mid * .5)\n",
    "        v_high = min(_GBS_Limites.MAX_V, v_mid * 1.5)\n",
    "\n",
    "    # Estimer les limites haute/basse du prix\n",
    "    cp_mid = val_fn(option_type, fs, x, t, r, b, v_mid)[0]\n",
    "    \n",
    "    # initialiser la recherche dichotomique\n",
    "    current_step = 0\n",
    "    diff = abs(cp - cp_mid)\n",
    "\n",
    "    # Maintenir la volatilité dichotomique jusqu'à ce qu'un prix correct soit trouvé\n",
    "    while (diff > precision) and (current_step < max_steps):\n",
    "        current_step += 1\n",
    "\n",
    "        # Diviser la zone de recherche en deux\n",
    "        if cp_mid < cp:\n",
    "            v_low = v_mid\n",
    "        else:\n",
    "            v_high = v_mid\n",
    "\n",
    "        cp_low = val_fn(option_type, fs, x, t, r, b, v_low)[0]\n",
    "        cp_high = val_fn(option_type, fs, x, t, r, b, v_high)[0]\n",
    "\n",
    "        v_mid = v_low + (cp - cp_low) * (v_high - v_low) / (cp_high - cp_low)\n",
    "        v_mid = max(_GBS_Limites.MIN_V, v_mid)  \n",
    "        v_mid = min(_GBS_Limites.MAX_V, v_mid)  \n",
    "\n",
    "        cp_mid = val_fn(option_type, fs, x, t, r, b, v_mid)[0]\n",
    "        diff = abs(cp - cp_mid)\n",
    "\n",
    "        #print(\"     VOL_IMP {0}. V[{1},{2},{3}]\".format(current_step, v_low, v_mid, v_high))\n",
    "\n",
    "    # retourner l'output\n",
    "    if abs(cp - cp_mid) < precision:\n",
    "        return v_mid\n",
    "    else:\n",
    "        raise GBS_CalculationError(\n",
    "            \"Vol implicite n_a pas convergé. Meilleure estimation={0}, Diff prix={1}, Precision requise={2}\".format(v_mid, diff,\n",
    "                                                                                                          precision))"
   ]
  },
  {
   "cell_type": "markdown",
   "metadata": {},
   "source": [
    "*Entrées:*\n",
    "<br>\n",
    "   * option_type = \"p\" ou \"c\"\n",
    "   * fs          = prix du sous-jacent\n",
    "   * x           = strike\n",
    "   * t           = échéance\n",
    "   * v           = volatilité implicite\n",
    "   * r           = taux sans risque\n",
    "   * q           = paiement de dividendes\n",
    "   * b           = coût de portage\n"
   ]
  },
  {
   "cell_type": "markdown",
   "metadata": {},
   "source": [
    "*Sorties:*\n",
    "<br>\n",
    "   * value       = prix de l'option\n",
    "   * delta       = première dérivée du prix de l'option par rapport au prix du sous-jacent\n",
    "   * gamma       = seconde dérivée du prix de l'option par rapport au prix du sous-jacent\n",
    "   * theta       = première dérivée du prix de l'option par rapport au délai d'expiration\n",
    "   * vega        = première dérivée du prix de l'option par rapport à la volatilité implicite\n",
    "   * rho         = première dérivée du prix de l'option par rapport au taux sans risque"
   ]
  },
  {
   "cell_type": "code",
   "execution_count": 11,
   "metadata": {},
   "outputs": [],
   "source": [
    "# ---------------------------\n",
    "# Black Scholes: les options sur actions\n",
    "def black_scholes(option_type, fs, x, t, r, v):\n",
    "    b = r\n",
    "    bs = _gbs(option_type, fs, x, t, r, b, v)\n",
    "    print(\"Prix :  {0}\\nDelta :  {1}\\nGamma :  {2}\\nTheta :  {3}\\nVega :  {4}\\nRho :  {5}\\n\".format(bs[0],bs[1],bs[2],\n",
    "                                                                                                    bs[3],bs[4],bs[5]))\n",
    "    return _gbs(option_type, fs, x, t, r, b, v)"
   ]
  },
  {
   "cell_type": "code",
   "execution_count": 12,
   "metadata": {},
   "outputs": [],
   "source": [
    "# ---------------------------\n",
    "# Options FX\n",
    "def garman_kohlhagen(option_type, fs, x, t, r, rf, v):\n",
    "    b = r - rf\n",
    "    gk = _gbs(option_type, fs, x, t, r, b, v)\n",
    "    print(\"Prix :  {0}\\nDelta :  {1}\\nGamma :  {2}\\nTheta :  {3}\\nVega :  {4}\\nRho :  {5}\\n\".format(gk[0],gk[1],gk[2],\n",
    "                                                                                                    gk[3],gk[4],gk[5]))\n",
    "    return gk "
   ]
  },
  {
   "cell_type": "code",
   "execution_count": 13,
   "metadata": {},
   "outputs": [],
   "source": [
    "def euro_vol_implicite(option_type, fs, x, t, r, q, cp):\n",
    "    b = r - q\n",
    "    return _gbs_vol_implicite(option_type, fs, x, t, r, b, cp)"
   ]
  },
  {
   "cell_type": "markdown",
   "metadata": {},
   "source": [
    "#### On effectue des tests pour vérifier "
   ]
  },
  {
   "cell_type": "code",
   "execution_count": 14,
   "metadata": {},
   "outputs": [
    {
     "data": {
      "text/plain": [
       "0.38059506228385803"
      ]
     },
     "execution_count": 14,
     "metadata": {},
     "output_type": "execute_result"
    }
   ],
   "source": [
    "euro_vol_implicite(\"c\",fs=100,x=100,t=.5,r=.03,q=.01,cp=11.10)"
   ]
  },
  {
   "cell_type": "code",
   "execution_count": 15,
   "metadata": {},
   "outputs": [
    {
     "data": {
      "text/plain": [
       "0.4164207070294432"
      ]
     },
     "execution_count": 15,
     "metadata": {},
     "output_type": "execute_result"
    }
   ],
   "source": [
    "euro_vol_implicite(\"p\",fs=100,x=100,t=.5,r=.03,q=.01,cp=11.10)"
   ]
  },
  {
   "cell_type": "code",
   "execution_count": 16,
   "metadata": {},
   "outputs": [
    {
     "name": "stdout",
     "output_type": "stream",
     "text": [
      "Prix :  20.376582927215637\n",
      "Delta :  -0.6200178074674287\n",
      "Gamma :  0.011973358188266586\n",
      "Theta :  -56.72325808917273\n",
      "Vega :  24.215532698216656\n",
      "Rho :  -14.844808581837206\n",
      "\n"
     ]
    },
    {
     "data": {
      "text/plain": [
       "(20.376582927215637,\n",
       " -0.6200178074674287,\n",
       " 0.011973358188266586,\n",
       " -56.72325808917273,\n",
       " 24.215532698216656,\n",
       " -14.844808581837206)"
      ]
     },
     "execution_count": 16,
     "metadata": {},
     "output_type": "execute_result"
    }
   ],
   "source": [
    "### à verif :\n",
    "black_scholes('p', fs=197.11, x=210, t=38/365, r=.01, v=0.5)"
   ]
  },
  {
   "cell_type": "code",
   "execution_count": 17,
   "metadata": {},
   "outputs": [
    {
     "name": "stdout",
     "output_type": "stream",
     "text": [
      "Prix :  0.02909925314943973\n",
      "Delta :  0.3403859092321427\n",
      "Gamma :  2.7002660835461674\n",
      "Theta :  -0.03494785073760004\n",
      "Vega :  0.3942820524550773\n",
      "Rho :  0.25095138262635147\n",
      "\n"
     ]
    },
    {
     "data": {
      "text/plain": [
       "(0.02909925314943973,\n",
       " 0.3403859092321427,\n",
       " 2.7002660835461674,\n",
       " -0.03494785073760004,\n",
       " 0.3942820524550773,\n",
       " 0.25095138262635147)"
      ]
     },
     "execution_count": 17,
     "metadata": {},
     "output_type": "execute_result"
    }
   ],
   "source": [
    "garman_kohlhagen('c', fs=1.56, x=1.60, t=0.5, r=0.06, rf=0.08, v=0.12)"
   ]
  },
  {
   "cell_type": "code",
   "execution_count": 18,
   "metadata": {},
   "outputs": [
    {
     "name": "stdout",
     "output_type": "stream",
     "text": [
      "Prix :  0.08298058174942846\n",
      "Delta :  -0.6204035299201804\n",
      "Gamma :  2.7002660835461674\n",
      "Theta :  -0.06169160152315317\n",
      "Vega :  0.3942820524550773\n",
      "Rho :  -0.525405044212455\n",
      "\n"
     ]
    }
   ],
   "source": [
    "x = garman_kohlhagen('p', fs=1.56, x=1.60, t=0.5, r=0.06, rf=0.08, v=0.12)"
   ]
  },
  {
   "cell_type": "code",
   "execution_count": 19,
   "metadata": {},
   "outputs": [
    {
     "name": "stdout",
     "output_type": "stream",
     "text": [
      "Prix :  0.043577282747810364\n",
      "Delta :  0.4614515969182755\n",
      "Gamma :  2.829409486282998\n",
      "Theta :  -0.04853188560170679\n",
      "Vega :  0.1910473873328006\n",
      "Rho :  0.13971941754749123\n",
      "\n"
     ]
    },
    {
     "data": {
      "text/plain": [
       "(0.043577282747810364,\n",
       " 0.4614515969182755,\n",
       " 2.829409486282998,\n",
       " -0.04853188560170679,\n",
       " 0.1910473873328006,\n",
       " 0.13971941754749123)"
      ]
     },
     "execution_count": 19,
     "metadata": {},
     "output_type": "execute_result"
    }
   ],
   "source": [
    "garman_kohlhagen('c', fs=0.7, x=0.72, t=0.5, r=0.0575, rf=0.0625, v=0.2756)"
   ]
  },
  {
   "cell_type": "code",
   "execution_count": 20,
   "metadata": {},
   "outputs": [
    {
     "name": "stdout",
     "output_type": "stream",
     "text": [
      "Prix :  0.043577282747810364\n",
      "Delta :  0.4614515969182755\n",
      "Gamma :  2.829409486282998\n",
      "Theta :  -0.04853188560170679\n",
      "Vega :  0.1910473873328006\n",
      "Rho :  0.13971941754749123\n",
      "\n"
     ]
    },
    {
     "data": {
      "text/plain": [
       "(0.043577282747810364,\n",
       " 0.4614515969182755,\n",
       " 2.829409486282998,\n",
       " -0.04853188560170679,\n",
       " 0.1910473873328006,\n",
       " 0.13971941754749123)"
      ]
     },
     "execution_count": 20,
     "metadata": {},
     "output_type": "execute_result"
    }
   ],
   "source": [
    "garman_kohlhagen('c', fs=0.7, x=.72, t=.5, r=0.0575, rf=0.0625, v=0.2756)"
   ]
  },
  {
   "cell_type": "code",
   "execution_count": 21,
   "metadata": {},
   "outputs": [
    {
     "name": "stdout",
     "output_type": "stream",
     "text": [
      "Prix :  0.06470874985262098\n",
      "Delta :  -0.5077816375580687\n",
      "Gamma :  2.829409486282998\n",
      "Theta :  -0.050709142563847384\n",
      "Vega :  0.1910473873328006\n",
      "Rho :  -0.21007794807163452\n",
      "\n"
     ]
    },
    {
     "data": {
      "text/plain": [
       "(0.06470874985262098,\n",
       " -0.5077816375580687,\n",
       " 2.829409486282998,\n",
       " -0.050709142563847384,\n",
       " 0.1910473873328006,\n",
       " -0.21007794807163452)"
      ]
     },
     "execution_count": 21,
     "metadata": {},
     "output_type": "execute_result"
    }
   ],
   "source": [
    "garman_kohlhagen('p', fs=0.7, x=.72, t=.5, r=0.0575, rf=0.0625, v=0.2756)"
   ]
  },
  {
   "cell_type": "code",
   "execution_count": 22,
   "metadata": {},
   "outputs": [
    {
     "name": "stdout",
     "output_type": "stream",
     "text": [
      "Prix :  0.0012837604379233175\n",
      "Delta :  0.06030789379973272\n",
      "Gamma :  2.3256181169089385\n",
      "Theta :  -0.013742331656327392\n",
      "Vega :  0.0749593231442089\n",
      "Rho :  0.027977439213497657\n",
      "\n"
     ]
    },
    {
     "data": {
      "text/plain": [
       "(0.0012837604379233175,\n",
       " 0.06030789379973272,\n",
       " 2.3256181169089385,\n",
       " -0.013742331656327392,\n",
       " 0.0749593231442089,\n",
       " 0.027977439213497657)"
      ]
     },
     "execution_count": 22,
     "metadata": {},
     "output_type": "execute_result"
    }
   ],
   "source": [
    "garman_kohlhagen('c', fs=1, x=1.15, t=0.474, r=1, rf=0.84, v=0.068)"
   ]
  },
  {
   "cell_type": "code",
   "execution_count": null,
   "metadata": {},
   "outputs": [],
   "source": []
  },
  {
   "cell_type": "code",
   "execution_count": 34,
   "metadata": {},
   "outputs": [
    {
     "name": "stdout",
     "output_type": "stream",
     "text": [
      "Prix :  3.093431812651085\n",
      "Delta :  0.8666591651857289\n",
      "Gamma :  0.07176065675591503\n",
      "Theta :  -1.0349105299547925\n",
      "Vega :  4.305639405354902\n",
      "Rho :  14.239751491063492\n",
      "\n"
     ]
    },
    {
     "data": {
      "text/plain": [
       "(3.093431812651085,\n",
       " 0.8666591651857289,\n",
       " 0.07176065675591503,\n",
       " -1.0349105299547925,\n",
       " 4.305639405354902,\n",
       " 14.239751491063492)"
      ]
     },
     "execution_count": 34,
     "metadata": {},
     "output_type": "execute_result"
    }
   ],
   "source": [
    "black_scholes('c', 20, 18, 1, .05, .15)"
   ]
  },
  {
   "cell_type": "code",
   "execution_count": 35,
   "metadata": {},
   "outputs": [
    {
     "name": "stdout",
     "output_type": "stream",
     "text": [
      "Prix :  0.21556145366393764\n",
      "Delta :  -0.13334083481427106\n",
      "Gamma :  0.07176065675591503\n",
      "Theta :  -0.1788040479041497\n",
      "Vega :  4.305639405354902\n",
      "Rho :  -2.882378149949359\n",
      "\n"
     ]
    },
    {
     "data": {
      "text/plain": [
       "(0.21556145366393764,\n",
       " -0.13334083481427106,\n",
       " 0.07176065675591503,\n",
       " -0.1788040479041497,\n",
       " 4.305639405354902,\n",
       " -2.882378149949359)"
      ]
     },
     "execution_count": 35,
     "metadata": {},
     "output_type": "execute_result"
    }
   ],
   "source": [
    "black_scholes('p', 20, 18, 1, .05, .15)"
   ]
  },
  {
   "cell_type": "code",
   "execution_count": 33,
   "metadata": {},
   "outputs": [
    {
     "data": {
      "text/plain": [
       "0.27842040206886837"
      ]
     },
     "execution_count": 33,
     "metadata": {},
     "output_type": "execute_result"
    }
   ],
   "source": [
    "euro_vol_implicite(\"p\",fs=100,x=100,t=1,r=.02,q=0,cp=10)"
   ]
  },
  {
   "cell_type": "code",
   "execution_count": null,
   "metadata": {},
   "outputs": [],
   "source": []
  }
 ],
 "metadata": {
  "kernelspec": {
   "display_name": "Python 3",
   "language": "python",
   "name": "python3"
  },
  "language_info": {
   "codemirror_mode": {
    "name": "ipython",
    "version": 3
   },
   "file_extension": ".py",
   "mimetype": "text/x-python",
   "name": "python",
   "nbconvert_exporter": "python",
   "pygments_lexer": "ipython3",
   "version": "3.6.7"
  }
 },
 "nbformat": 4,
 "nbformat_minor": 2
}
